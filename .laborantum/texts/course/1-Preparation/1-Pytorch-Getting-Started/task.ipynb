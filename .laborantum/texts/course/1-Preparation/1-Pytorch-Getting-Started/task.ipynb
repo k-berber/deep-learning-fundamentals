{
    "cells": [
        {
            "cell_type": "markdown",
            "metadata": {
                "colab": {
                    "base_uri": "https://localhost:8080/",
                    "height": 949
                },
                "colab_type": "code",
                "executionInfo": {
                    "elapsed": 1704,
                    "status": "error",
                    "timestamp": 1553690684584,
                    "user": {
                        "displayName": "Igor Slinko",
                        "photoUrl": "https://lh4.googleusercontent.com/-KYuH_A0wMqY/AAAAAAAAAAI/AAAAAAAAA70/CFLH5ufF32M/s64/photo.jpg",
                        "userId": "00864276345820379450"
                    },
                    "user_tz": -180
                },
                "id": "HiASrOWHA930",
                "outputId": "9052c75e-70db-47b6-98ad-d76d22fcb18c"
            },
            "source": [
                "# Getting Started with Pytorch"
            ]
        },
        {
            "cell_type": "markdown",
            "metadata": {},
            "source": [
                "Torch is like Numpy. But better. It can automatically calculate symbolic derivative (perform backpropagation) and is able to seamlessly work with accelerators such as:\n",
                "\n",
                "- GPUs\n",
                "- TPUs\n",
                "\n",
                "It also have multiple solutions for productionalization of the models such as:\n",
                "- TorchMobile\n",
                "- TorchServe\n",
                "- TorchTensorRT\n",
                "\n",
                "An also has multiple extensions for different applications such as:\n",
                "- TorchVision\n",
                "- TorchAudio\n",
                "- Transformers\n",
                "- and many others\n",
                "\n",
                "Torch is the state-of-the-art neural network toolkit.\n",
                "\n",
                "In this notebook we will learn, how to work with it on a very basic level as we do it with numpy."
            ]
        },
        {
            "cell_type": "code",
            "execution_count": 6,
            "metadata": {},
            "outputs": [
                {
                    "name": "stdout",
                    "output_type": "stream",
                    "text": [
                        "Requirement already satisfied: pip in /Library/Frameworks/Python.framework/Versions/3.9/lib/python3.9/site-packages (22.3.1)\n",
                        "Collecting pip\n",
                        "  Downloading pip-25.2-py3-none-any.whl (1.8 MB)\n",
                        "\u001b[2K     \u001b[90m━━━━━━━━━━━━━━━━━━━━━━━━━━━━━━━━━━━━━━━━\u001b[0m \u001b[32m1.8/1.8 MB\u001b[0m \u001b[31m1.1 MB/s\u001b[0m eta \u001b[36m0:00:00\u001b[0m00:01\u001b[0m00:01\u001b[0m0m\n",
                        "\u001b[?25hInstalling collected packages: pip\n",
                        "  Attempting uninstall: pip\n",
                        "    Found existing installation: pip 22.3.1\n",
                        "    Uninstalling pip-22.3.1:\n",
                        "      Successfully uninstalled pip-22.3.1\n",
                        "Successfully installed pip-25.2\n"
                    ]
                }
            ],
            "source": [
                "!pip3 install --upgrade pip"
            ]
        },
        {
            "cell_type": "code",
            "execution_count": 12,
            "metadata": {},
            "outputs": [
                {
                    "data": {
                        "text/plain": [
                            "'/usr/local/bin/python3'"
                        ]
                    },
                    "execution_count": 12,
                    "metadata": {},
                    "output_type": "execute_result"
                }
            ],
            "source": [
                "import sys\n",
                "sys.executable\n"
            ]
        },
        {
            "cell_type": "code",
            "execution_count": 20,
            "metadata": {},
            "outputs": [
                {
                    "name": "stdout",
                    "output_type": "stream",
                    "text": [
                        "Collecting json-tricks\n",
                        "  Downloading json_tricks-3.17.3-py2.py3-none-any.whl.metadata (16 kB)\n",
                        "Downloading json_tricks-3.17.3-py2.py3-none-any.whl (27 kB)\n",
                        "Installing collected packages: json-tricks\n",
                        "Successfully installed json-tricks-3.17.3\n"
                    ]
                }
            ],
            "source": [
                "!{sys.executable} -m pip install json-tricks"
            ]
        },
        {
            "cell_type": "code",
            "execution_count": 19,
            "metadata": {},
            "outputs": [
                {
                    "name": "stdout",
                    "output_type": "stream",
                    "text": [
                        "Collecting torch\n",
                        "  Downloading torch-2.2.2-cp39-none-macosx_10_9_x86_64.whl.metadata (25 kB)\n",
                        "Requirement already satisfied: filelock in /Library/Frameworks/Python.framework/Versions/3.9/lib/python3.9/site-packages (from torch) (3.6.0)\n",
                        "Collecting typing-extensions>=4.8.0 (from torch)\n",
                        "  Downloading typing_extensions-4.15.0-py3-none-any.whl.metadata (3.3 kB)\n",
                        "Collecting sympy (from torch)\n",
                        "  Downloading sympy-1.14.0-py3-none-any.whl.metadata (12 kB)\n",
                        "Requirement already satisfied: networkx in /Library/Frameworks/Python.framework/Versions/3.9/lib/python3.9/site-packages (from torch) (2.8.7)\n",
                        "Requirement already satisfied: jinja2 in /Library/Frameworks/Python.framework/Versions/3.9/lib/python3.9/site-packages (from torch) (3.1.1)\n",
                        "Collecting fsspec (from torch)\n",
                        "  Downloading fsspec-2025.7.0-py3-none-any.whl.metadata (12 kB)\n",
                        "Requirement already satisfied: MarkupSafe>=2.0 in /Library/Frameworks/Python.framework/Versions/3.9/lib/python3.9/site-packages (from jinja2->torch) (2.1.1)\n",
                        "Collecting mpmath<1.4,>=1.1.0 (from sympy->torch)\n",
                        "  Downloading mpmath-1.3.0-py3-none-any.whl.metadata (8.6 kB)\n",
                        "Downloading torch-2.2.2-cp39-none-macosx_10_9_x86_64.whl (150.8 MB)\n",
                        "\u001b[2K   \u001b[90m━━━━━━━━━━━━━━━━━━━━━━━━━━━━━━━━━━━━━━━━\u001b[0m \u001b[32m150.8/150.8 MB\u001b[0m \u001b[31m4.7 MB/s\u001b[0m  \u001b[33m0:00:32\u001b[0mm0:00:01\u001b[0m00:01\u001b[0m\n",
                        "\u001b[?25hDownloading typing_extensions-4.15.0-py3-none-any.whl (44 kB)\n",
                        "Downloading fsspec-2025.7.0-py3-none-any.whl (199 kB)\n",
                        "Downloading sympy-1.14.0-py3-none-any.whl (6.3 MB)\n",
                        "\u001b[2K   \u001b[90m━━━━━━━━━━━━━━━━━━━━━━━━━━━━━━━━━━━━━━━━\u001b[0m \u001b[32m6.3/6.3 MB\u001b[0m \u001b[31m5.5 MB/s\u001b[0m  \u001b[33m0:00:01\u001b[0m eta \u001b[36m0:00:01\u001b[0m\n",
                        "\u001b[?25hDownloading mpmath-1.3.0-py3-none-any.whl (536 kB)\n",
                        "\u001b[2K   \u001b[90m━━━━━━━━━━━━━━━━━━━━━━━━━━━━━━━━━━━━━━━━\u001b[0m \u001b[32m536.2/536.2 kB\u001b[0m \u001b[31m3.9 MB/s\u001b[0m  \u001b[33m0:00:00\u001b[0m36m-:--:--\u001b[0m\n",
                        "\u001b[?25hInstalling collected packages: mpmath, typing-extensions, sympy, fsspec, torch\n",
                        "\u001b[2K   \u001b[90m━━━━━━━━━━━━━━━━━━━━━━━━━━━━━━━━━━━━━━━━\u001b[0m \u001b[32m5/5\u001b[0m [torch]32m4/5\u001b[0m [torch]]\n",
                        "\u001b[1A\u001b[2KSuccessfully installed fsspec-2025.7.0 mpmath-1.3.0 sympy-1.14.0 torch-2.2.2 typing-extensions-4.15.0\n"
                    ]
                }
            ],
            "source": [
                "!{sys.executable} -m pip install torch"
            ]
        },
        {
            "cell_type": "code",
            "execution_count": 22,
            "metadata": {},
            "outputs": [
                {
                    "name": "stdout",
                    "output_type": "stream",
                    "text": [
                        "Collecting lovely_tensors\n",
                        "  Downloading lovely_tensors-0.1.18-py3-none-any.whl.metadata (15 kB)\n",
                        "Requirement already satisfied: torch in /Library/Frameworks/Python.framework/Versions/3.9/lib/python3.9/site-packages (from lovely_tensors) (2.2.2)\n",
                        "Collecting lovely-numpy>=0.2.13 (from lovely_tensors)\n",
                        "  Downloading lovely_numpy-0.2.13-py3-none-any.whl.metadata (9.6 kB)\n",
                        "Requirement already satisfied: numpy>=1.17 in /Library/Frameworks/Python.framework/Versions/3.9/lib/python3.9/site-packages (from lovely-numpy>=0.2.13->lovely_tensors) (1.22.3)\n",
                        "Collecting fastcore (from lovely-numpy>=0.2.13->lovely_tensors)\n",
                        "  Downloading fastcore-1.8.8-py3-none-any.whl.metadata (3.7 kB)\n",
                        "Requirement already satisfied: ipython in /Library/Frameworks/Python.framework/Versions/3.9/lib/python3.9/site-packages (from lovely-numpy>=0.2.13->lovely_tensors) (8.5.0)\n",
                        "Requirement already satisfied: matplotlib in /Library/Frameworks/Python.framework/Versions/3.9/lib/python3.9/site-packages (from lovely-numpy>=0.2.13->lovely_tensors) (3.6.0)\n",
                        "Requirement already satisfied: packaging in /Users/macbookpro/Library/Python/3.9/lib/python/site-packages (from fastcore->lovely-numpy>=0.2.13->lovely_tensors) (25.0)\n",
                        "Requirement already satisfied: backcall in /Library/Frameworks/Python.framework/Versions/3.9/lib/python3.9/site-packages (from ipython->lovely-numpy>=0.2.13->lovely_tensors) (0.2.0)\n",
                        "Requirement already satisfied: decorator in /Library/Frameworks/Python.framework/Versions/3.9/lib/python3.9/site-packages (from ipython->lovely-numpy>=0.2.13->lovely_tensors) (5.1.1)\n",
                        "Requirement already satisfied: jedi>=0.16 in /Library/Frameworks/Python.framework/Versions/3.9/lib/python3.9/site-packages (from ipython->lovely-numpy>=0.2.13->lovely_tensors) (0.18.1)\n",
                        "Requirement already satisfied: matplotlib-inline in /Library/Frameworks/Python.framework/Versions/3.9/lib/python3.9/site-packages (from ipython->lovely-numpy>=0.2.13->lovely_tensors) (0.1.6)\n",
                        "Requirement already satisfied: pickleshare in /Library/Frameworks/Python.framework/Versions/3.9/lib/python3.9/site-packages (from ipython->lovely-numpy>=0.2.13->lovely_tensors) (0.7.5)\n",
                        "Requirement already satisfied: prompt-toolkit<3.1.0,>3.0.1 in /Library/Frameworks/Python.framework/Versions/3.9/lib/python3.9/site-packages (from ipython->lovely-numpy>=0.2.13->lovely_tensors) (3.0.31)\n",
                        "Requirement already satisfied: pygments>=2.4.0 in /Library/Frameworks/Python.framework/Versions/3.9/lib/python3.9/site-packages (from ipython->lovely-numpy>=0.2.13->lovely_tensors) (2.10.0)\n",
                        "Requirement already satisfied: stack-data in /Library/Frameworks/Python.framework/Versions/3.9/lib/python3.9/site-packages (from ipython->lovely-numpy>=0.2.13->lovely_tensors) (0.5.1)\n",
                        "Requirement already satisfied: traitlets>=5 in /Library/Frameworks/Python.framework/Versions/3.9/lib/python3.9/site-packages (from ipython->lovely-numpy>=0.2.13->lovely_tensors) (5.4.0)\n",
                        "Requirement already satisfied: pexpect>4.3 in /Library/Frameworks/Python.framework/Versions/3.9/lib/python3.9/site-packages (from ipython->lovely-numpy>=0.2.13->lovely_tensors) (4.8.0)\n",
                        "Requirement already satisfied: appnope in /Library/Frameworks/Python.framework/Versions/3.9/lib/python3.9/site-packages (from ipython->lovely-numpy>=0.2.13->lovely_tensors) (0.1.3)\n",
                        "Requirement already satisfied: wcwidth in /Library/Frameworks/Python.framework/Versions/3.9/lib/python3.9/site-packages (from prompt-toolkit<3.1.0,>3.0.1->ipython->lovely-numpy>=0.2.13->lovely_tensors) (0.2.5)\n",
                        "Requirement already satisfied: parso<0.9.0,>=0.8.0 in /Library/Frameworks/Python.framework/Versions/3.9/lib/python3.9/site-packages (from jedi>=0.16->ipython->lovely-numpy>=0.2.13->lovely_tensors) (0.8.3)\n",
                        "Requirement already satisfied: ptyprocess>=0.5 in /Library/Frameworks/Python.framework/Versions/3.9/lib/python3.9/site-packages (from pexpect>4.3->ipython->lovely-numpy>=0.2.13->lovely_tensors) (0.7.0)\n",
                        "Requirement already satisfied: contourpy>=1.0.1 in /Library/Frameworks/Python.framework/Versions/3.9/lib/python3.9/site-packages (from matplotlib->lovely-numpy>=0.2.13->lovely_tensors) (1.0.5)\n",
                        "Requirement already satisfied: cycler>=0.10 in /Library/Frameworks/Python.framework/Versions/3.9/lib/python3.9/site-packages (from matplotlib->lovely-numpy>=0.2.13->lovely_tensors) (0.11.0)\n",
                        "Requirement already satisfied: fonttools>=4.22.0 in /Library/Frameworks/Python.framework/Versions/3.9/lib/python3.9/site-packages (from matplotlib->lovely-numpy>=0.2.13->lovely_tensors) (4.37.3)\n",
                        "Requirement already satisfied: kiwisolver>=1.0.1 in /Library/Frameworks/Python.framework/Versions/3.9/lib/python3.9/site-packages (from matplotlib->lovely-numpy>=0.2.13->lovely_tensors) (1.4.4)\n",
                        "Requirement already satisfied: pillow>=6.2.0 in /Library/Frameworks/Python.framework/Versions/3.9/lib/python3.9/site-packages (from matplotlib->lovely-numpy>=0.2.13->lovely_tensors) (9.2.0)\n",
                        "Requirement already satisfied: pyparsing>=2.2.1 in /Library/Frameworks/Python.framework/Versions/3.9/lib/python3.9/site-packages (from matplotlib->lovely-numpy>=0.2.13->lovely_tensors) (3.0.7)\n",
                        "Requirement already satisfied: python-dateutil>=2.7 in /Library/Frameworks/Python.framework/Versions/3.9/lib/python3.9/site-packages (from matplotlib->lovely-numpy>=0.2.13->lovely_tensors) (2.8.2)\n",
                        "Requirement already satisfied: six>=1.5 in /Library/Frameworks/Python.framework/Versions/3.9/lib/python3.9/site-packages (from python-dateutil>=2.7->matplotlib->lovely-numpy>=0.2.13->lovely_tensors) (1.16.0)\n",
                        "Requirement already satisfied: executing in /Library/Frameworks/Python.framework/Versions/3.9/lib/python3.9/site-packages (from stack-data->ipython->lovely-numpy>=0.2.13->lovely_tensors) (1.1.1)\n",
                        "Requirement already satisfied: asttokens in /Library/Frameworks/Python.framework/Versions/3.9/lib/python3.9/site-packages (from stack-data->ipython->lovely-numpy>=0.2.13->lovely_tensors) (2.0.8)\n",
                        "Requirement already satisfied: pure-eval in /Library/Frameworks/Python.framework/Versions/3.9/lib/python3.9/site-packages (from stack-data->ipython->lovely-numpy>=0.2.13->lovely_tensors) (0.2.2)\n",
                        "Requirement already satisfied: filelock in /Library/Frameworks/Python.framework/Versions/3.9/lib/python3.9/site-packages (from torch->lovely_tensors) (3.6.0)\n",
                        "Requirement already satisfied: typing-extensions>=4.8.0 in /Library/Frameworks/Python.framework/Versions/3.9/lib/python3.9/site-packages (from torch->lovely_tensors) (4.15.0)\n",
                        "Requirement already satisfied: sympy in /Library/Frameworks/Python.framework/Versions/3.9/lib/python3.9/site-packages (from torch->lovely_tensors) (1.14.0)\n",
                        "Requirement already satisfied: networkx in /Library/Frameworks/Python.framework/Versions/3.9/lib/python3.9/site-packages (from torch->lovely_tensors) (2.8.7)\n",
                        "Requirement already satisfied: jinja2 in /Library/Frameworks/Python.framework/Versions/3.9/lib/python3.9/site-packages (from torch->lovely_tensors) (3.1.1)\n",
                        "Requirement already satisfied: fsspec in /Library/Frameworks/Python.framework/Versions/3.9/lib/python3.9/site-packages (from torch->lovely_tensors) (2025.7.0)\n",
                        "Requirement already satisfied: MarkupSafe>=2.0 in /Library/Frameworks/Python.framework/Versions/3.9/lib/python3.9/site-packages (from jinja2->torch->lovely_tensors) (2.1.1)\n",
                        "Requirement already satisfied: mpmath<1.4,>=1.1.0 in /Library/Frameworks/Python.framework/Versions/3.9/lib/python3.9/site-packages (from sympy->torch->lovely_tensors) (1.3.0)\n",
                        "Downloading lovely_tensors-0.1.18-py3-none-any.whl (19 kB)\n",
                        "Downloading lovely_numpy-0.2.13-py3-none-any.whl (24 kB)\n",
                        "Downloading fastcore-1.8.8-py3-none-any.whl (79 kB)\n",
                        "Installing collected packages: fastcore, lovely-numpy, lovely_tensors\n",
                        "\u001b[2K   \u001b[90m━━━━━━━━━━━━━━━━━━━━━━━━━━━━━━━━━━━━━━━━\u001b[0m \u001b[32m3/3\u001b[0m [lovely_tensors]m [lovely-numpy]\n",
                        "\u001b[1A\u001b[2KSuccessfully installed fastcore-1.8.8 lovely-numpy-0.2.13 lovely_tensors-0.1.18\n"
                    ]
                }
            ],
            "source": [
                "!{sys.executable} -m pip install lovely_tensors"
            ]
        },
        {
            "cell_type": "code",
            "execution_count": 23,
            "metadata": {},
            "outputs": [],
            "source": [
                "import json_tricks\n",
                "import torch\n",
                "import lovely_tensors\n",
                "\n",
                "# lovely_tensors.monkey_patch()\n",
                "\n",
                "answer = {}"
            ]
        },
        {
            "cell_type": "markdown",
            "metadata": {},
            "source": [
                "# Task 1: Creating a tensor"
            ]
        },
        {
            "cell_type": "markdown",
            "metadata": {},
            "source": [
                "Create the following tensors:\n",
                "- `X_zeros`, tensor of zeros of shape `[3, 4, 5]` (see `torch.zeros`)\n",
                "- `X_ones`, tensor of ones of the same shape (see `torch.ones`)\n",
                "- `X_custom`, tensor with all the numbers from 1 to 12 in 3 rows and 4 columns, enumerated row-by-row (any approach will work)\n",
                "- `X_random`, tensor with normally distributed random values (see `torch.randn`)"
            ]
        },
        {
            "cell_type": "code",
            "execution_count": 25,
            "metadata": {
                "colab": {},
                "colab_type": "code",
                "id": "om5sXzJcBC3L"
            },
            "outputs": [
                {
                    "name": "stdout",
                    "output_type": "stream",
                    "text": [
                        "torch.Size([3, 4])\n",
                        "X_zeros tensor([[[0., 0., 0., 0., 0.],\n",
                        "         [0., 0., 0., 0., 0.],\n",
                        "         [0., 0., 0., 0., 0.],\n",
                        "         [0., 0., 0., 0., 0.]],\n",
                        "\n",
                        "        [[0., 0., 0., 0., 0.],\n",
                        "         [0., 0., 0., 0., 0.],\n",
                        "         [0., 0., 0., 0., 0.],\n",
                        "         [0., 0., 0., 0., 0.]],\n",
                        "\n",
                        "        [[0., 0., 0., 0., 0.],\n",
                        "         [0., 0., 0., 0., 0.],\n",
                        "         [0., 0., 0., 0., 0.],\n",
                        "         [0., 0., 0., 0., 0.]]])\n",
                        "X_ones tensor([[[0., 0., 0., 0., 0.],\n",
                        "         [0., 0., 0., 0., 0.],\n",
                        "         [0., 0., 0., 0., 0.],\n",
                        "         [0., 0., 0., 0., 0.]],\n",
                        "\n",
                        "        [[0., 0., 0., 0., 0.],\n",
                        "         [0., 0., 0., 0., 0.],\n",
                        "         [0., 0., 0., 0., 0.],\n",
                        "         [0., 0., 0., 0., 0.]],\n",
                        "\n",
                        "        [[0., 0., 0., 0., 0.],\n",
                        "         [0., 0., 0., 0., 0.],\n",
                        "         [0., 0., 0., 0., 0.],\n",
                        "         [0., 0., 0., 0., 0.]]])\n",
                        "X_custom tensor([[ 0,  1,  2,  3],\n",
                        "        [ 4,  5,  6,  7],\n",
                        "        [ 8,  9, 10, 11]])\n",
                        "X_random tensor([-0.1009, -0.7596, -1.1623, -0.3884])\n"
                    ]
                }
            ],
            "source": [
                "X_zeros = (\n",
                "    ## YOUR CODE HERE ##\n",
                "    torch.zeros(3,4,5)\n",
                ")\n",
                "X_ones = (\n",
                "    ## YOUR CODE HERE ##\n",
                "    torch.zeros(3,4,5)\n",
                ")\n",
                "\n",
                "X_custom = (\n",
                "    ## YOUR CODE HERE ##\n",
                "    torch.arange(12).reshape(3, 4)\n",
                ")\n",
                "print(X_custom.shape)\n",
                "\n",
                "X_random = (\n",
                "    ## YOUR CODE HERE ##\n",
                "        torch.randn(4)\n",
                ")\n",
                "\n",
                "answer['zeros'] = X_zeros.clone().numpy()\n",
                "answer['ones'] = X_ones.clone().numpy()\n",
                "answer['custom'] = X_custom.clone().numpy()\n",
                "\n",
                "print('X_zeros', X_zeros)\n",
                "print('X_ones', X_ones)\n",
                "print('X_custom', X_custom)\n",
                "print('X_random', X_random)\n"
            ]
        },
        {
            "cell_type": "markdown",
            "metadata": {},
            "source": [
                "# Checking tensor's properties"
            ]
        },
        {
            "cell_type": "markdown",
            "metadata": {},
            "source": [
                "For the tensor called `X_custom`, extract its:\n",
                "- shape\n",
                "- mean value\n",
                "- standard deviation\n",
                "- minimal value\n",
                "- maximal value"
            ]
        },
        {
            "cell_type": "code",
            "execution_count": 3,
            "metadata": {
                "colab": {
                    "base_uri": "https://localhost:8080/",
                    "height": 34
                },
                "colab_type": "code",
                "executionInfo": {
                    "elapsed": 8591,
                    "status": "ok",
                    "timestamp": 1553687458151,
                    "user": {
                        "displayName": "Igor Slinko",
                        "photoUrl": "https://lh4.googleusercontent.com/-KYuH_A0wMqY/AAAAAAAAAAI/AAAAAAAAA70/CFLH5ufF32M/s64/photo.jpg",
                        "userId": "00864276345820379450"
                    },
                    "user_tz": -180
                },
                "id": "vMcUsd3X3vg-",
                "outputId": "487e2919-0875-4df0-ab62-0d1695710a55"
            },
            "outputs": [],
            "source": [
                "shape = (\n",
                "    ## YOUR CODE HERE ##\n",
                ")\n",
                "mean = (\n",
                "    ## YOUR CODE HERE ##\n",
                ")\n",
                "std = (\n",
                "    ## YOUR CODE HERE ##\n",
                ")\n",
                "min_val = (\n",
                "    ## YOUR CODE HERE ##\n",
                ")\n",
                "max_val = (\n",
                "    ## YOUR CODE HERE ##\n",
                ")\n",
                "\n",
                "answer['shape'] = shape\n",
                "answer['mean'] = mean.clone().numpy()\n",
                "answer['std'] = std.clone().numpy()\n",
                "answer['min_val'] = min_val.clone().numpy()\n",
                "answer['max_val'] = max_val.clone().numpy()\n",
                "\n",
                "print('shape', shape)\n",
                "print('mean', mean)\n",
                "print('std', std)\n",
                "print('min_val', min_val)\n",
                "print('max_val', max_val)\n"
            ]
        },
        {
            "cell_type": "markdown",
            "metadata": {},
            "source": [
                "# Slicing the tensors"
            ]
        },
        {
            "cell_type": "markdown",
            "metadata": {},
            "source": [
                "From the matrix, called `X_custom`, extract:\n",
                "- `x_0`: 0th row \n",
                "- `x_1`: 1st row\n",
                "- `x_0_0`: elemnt from 0th row and 0th column\n",
                "- `x_all_0`: 0th column"
            ]
        },
        {
            "cell_type": "code",
            "execution_count": null,
            "metadata": {
                "colab": {
                    "base_uri": "https://localhost:8080/",
                    "height": 34
                },
                "colab_type": "code",
                "executionInfo": {
                    "elapsed": 8567,
                    "status": "ok",
                    "timestamp": 1553687458154,
                    "user": {
                        "displayName": "Igor Slinko",
                        "photoUrl": "https://lh4.googleusercontent.com/-KYuH_A0wMqY/AAAAAAAAAAI/AAAAAAAAA70/CFLH5ufF32M/s64/photo.jpg",
                        "userId": "00864276345820379450"
                    },
                    "user_tz": -180
                },
                "id": "3RRI7chI4Ylr",
                "outputId": "a0428536-a285-4921-94ab-ac35973e86e8"
            },
            "outputs": [],
            "source": [
                "x = X_custom\n",
                "\n",
                "x_0 = (\n",
                "    ## YOUR CODE HERE ##\n",
                ")\n",
                "\n",
                "x_1 = (\n",
                "    ## YOUR CODE HERE ##\n",
                ")\n",
                "\n",
                "x_0_0 = (\n",
                "    ## YOUR CODE HERE ##\n",
                ")\n",
                "\n",
                "x_all_0 = (\n",
                "    ## YOUR CODE HERE ##\n",
                ")\n",
                "\n",
                "answer['x_0'] = x_0.clone().numpy()\n",
                "answer['x_1'] = x_1.clone().numpy()\n",
                "answer['x_0_0'] = x_0_0.clone().numpy()\n",
                "answer['x_all_0'] = x_all_0.clone().numpy()\n",
                "\n",
                "print('x_0', x_0)\n",
                "print('x_1', x_1)\n",
                "print('x_0_0', x_0_0)\n",
                "print('x_all_0', x_all_0)"
            ]
        },
        {
            "cell_type": "markdown",
            "metadata": {},
            "source": [
                "# Operations with tensors"
            ]
        },
        {
            "cell_type": "markdown",
            "metadata": {},
            "source": [
                "For the pair of matrices `x` and `y` defined below, find:\n",
                "- `x_and_10`: $X + 10$\n",
                "- `x_squared`: $X^2$ (elementwise)\n",
                "- `x_plus_y`: $X + Y$\n",
                "- `x_times_y`: $X \\cdot Y$ (elementwise)\n",
                "- `x_divided_by_y`: $X / Y$ (elementwise)\n",
                "- `x_mod_y`: $X \\% Y$ (elementwise)\n",
                "- `x_exp`: $\\exp(X)$ (elementwise)\n",
                "- `x_log`: $\\log(X)$ (elementwise)\n",
                "- `x_sin`: $\\sin(X)$ (elementwise)\n",
                "- `x_cos`: $\\cos(X)$ (elementwise)\n",
                "- `x_matmul_y`: $XY$ (matrix multiplication)"
            ]
        },
        {
            "cell_type": "code",
            "execution_count": 5,
            "metadata": {
                "colab": {
                    "base_uri": "https://localhost:8080/",
                    "height": 68
                },
                "colab_type": "code",
                "executionInfo": {
                    "elapsed": 8567,
                    "status": "ok",
                    "timestamp": 1553687458159,
                    "user": {
                        "displayName": "Igor Slinko",
                        "photoUrl": "https://lh4.googleusercontent.com/-KYuH_A0wMqY/AAAAAAAAAAI/AAAAAAAAA70/CFLH5ufF32M/s64/photo.jpg",
                        "userId": "00864276345820379450"
                    },
                    "user_tz": -180
                },
                "id": "byVTqgRs5FhK",
                "outputId": "a55cd10e-dcf2-4257-e889-80b0a2acff24"
            },
            "outputs": [],
            "source": [
                "x = torch.Tensor([[1,  2,  3,  4],\n",
                "                  [5,  6,  7,  8],\n",
                "                  [9, 10, 11, 12]])\n",
                "\n",
                "y = torch.Tensor([[12, 11, 10, 9],\n",
                "                  [8, 7, 6, 5],\n",
                "                  [4, 3, 2, 1]])\n",
                "\n",
                "x_and_10 = (\n",
                "    ## YOUR CODE HERE ##\n",
                ")\n",
                "\n",
                "x_squared = (\n",
                "    ## YOUR CODE HERE ##\n",
                ")\n",
                "\n",
                "x_plus_y = (\n",
                "    ## YOUR CODE HERE ##\n",
                ")\n",
                "\n",
                "x_times_y = (\n",
                "    ## YOUR CODE HERE ##\n",
                ")\n",
                "\n",
                "x_divided_by_y = (\n",
                "    ## YOUR CODE HERE ##\n",
                ")\n",
                "\n",
                "x_mod_y = (\n",
                "    ## YOUR CODE HERE ##\n",
                ")\n",
                "\n",
                "x_exp = (\n",
                "    ## YOUR CODE HERE ##\n",
                ")\n",
                "\n",
                "x_log = (\n",
                "    ## YOUR CODE HERE ##\n",
                ")\n",
                "\n",
                "x_sin = (\n",
                "    ## YOUR CODE HERE ##\n",
                ")\n",
                "\n",
                "x_cos = (\n",
                "    ## YOUR CODE HERE ##\n",
                ")\n",
                "\n",
                "x_matmul_y = (\n",
                "    ## YOUR CODE HERE ##\n",
                ")\n",
                "\n",
                "answer['x_and_10'] = x_and_10.clone().numpy()\n",
                "answer['x_squared'] = x_squared.clone().numpy()\n",
                "answer['x_plus_y'] = x_plus_y.clone().numpy()\n",
                "answer['x_times_y'] = x_times_y.clone().numpy()\n",
                "answer['x_divided_by_y'] = x_divided_by_y.clone().numpy()\n",
                "answer['x_mod_y'] = x_mod_y.clone().numpy()\n",
                "answer['x_exp'] = x_exp.clone().numpy()\n",
                "answer['x_log'] = x_log.clone().numpy()\n",
                "answer['x_sin'] = x_sin.clone().numpy()\n",
                "answer['x_cos'] = x_cos.clone().numpy()\n",
                "answer['x_matmul_y'] = x_matmul_y.clone().numpy()\n",
                "\n",
                "print('x_and_10', x_and_10)\n",
                "print('x_squared', x_squared)\n",
                "print('x_plus_y', x_plus_y)\n",
                "print('x_times_y', x_times_y)\n",
                "print('x_divided_by_y', x_divided_by_y)\n",
                "print('x_mod_y', x_mod_y)\n",
                "print('x_exp', x_exp)\n",
                "print('x_log', x_log)\n",
                "print('x_sin', x_sin)\n",
                "print('x_cos', x_cos)\n",
                "print('x_matmul_y', x_matmul_y)"
            ]
        },
        {
            "cell_type": "markdown",
            "metadata": {},
            "source": [
                "# Conditions and masking"
            ]
        },
        {
            "cell_type": "markdown",
            "metadata": {},
            "source": [
                "For the matrix `x`, do:\n",
                "- `x_greater_than_3` find the mask of all the elements that are greater than `3`\n",
                "- `x_greater_than_3_and_less_than_10` find the mask of all the elements that are greater than `3` and less than `10`\n",
                "- `x_greater_than_10_or_less_than_3` find the mask of all the elements that are either less than `3` or greater than `10`\n",
                "- `x_not_equal_to_3` find the mask of all the elements that are not equal to `3`\n",
                "- `x_vals_greater_than_3` extract all the elements that are greater than `3`"
            ]
        },
        {
            "cell_type": "code",
            "execution_count": 6,
            "metadata": {
                "colab": {
                    "base_uri": "https://localhost:8080/",
                    "height": 68
                },
                "colab_type": "code",
                "executionInfo": {
                    "elapsed": 9288,
                    "status": "ok",
                    "timestamp": 1553687458893,
                    "user": {
                        "displayName": "Igor Slinko",
                        "photoUrl": "https://lh4.googleusercontent.com/-KYuH_A0wMqY/AAAAAAAAAAI/AAAAAAAAA70/CFLH5ufF32M/s64/photo.jpg",
                        "userId": "00864276345820379450"
                    },
                    "user_tz": -180
                },
                "id": "0BYJe2WALg-t",
                "outputId": "623d3433-a258-4f3e-f480-8df7e604b4a0"
            },
            "outputs": [],
            "source": [
                "x_greater_than_3 = (\n",
                "    ## YOUR CODE HERE ##\n",
                ")\n",
                "\n",
                "x_greater_than_3_and_less_than_10 = (\n",
                "    ## YOUR CODE HERE ##\n",
                ")\n",
                "\n",
                "x_greater_than_10_or_less_than_3 = (\n",
                "    ## YOUR CODE HERE ##\n",
                ")\n",
                "\n",
                "x_not_equal_to_3 = (\n",
                "    ## YOUR CODE HERE ##\n",
                ")\n",
                "\n",
                "x_vals_greater_than_3 = (\n",
                "    ## YOUR CODE HERE ##\n",
                ")\n",
                "\n",
                "answer['x_greater_than_3'] = x_greater_than_3.clone().numpy()\n",
                "answer['x_greater_than_3_and_less_than_10'] = x_greater_than_3_and_less_than_10.clone().numpy()\n",
                "answer['x_greater_than_10_or_less_than_3'] = x_greater_than_10_or_less_than_3.clone().numpy()\n",
                "answer['x_not_equal_to_3'] = x_not_equal_to_3.clone().numpy()\n",
                "answer['x_vals_greater_than_3'] = x_vals_greater_than_3.clone().numpy()\n",
                "\n",
                "print('x_greater_than_3', x_greater_than_3)\n",
                "print('x_greater_than_3_and_less_than_10', x_greater_than_3_and_less_than_10)\n",
                "print('x_greater_than_10_or_less_than_3', x_greater_than_10_or_less_than_3)\n",
                "print('x_not_equal_to_3', x_not_equal_to_3)\n",
                "print('x_vals_greater_than_3', x_vals_greater_than_3)"
            ]
        },
        {
            "cell_type": "markdown",
            "metadata": {},
            "source": [
                "# Beware of shallow copying"
            ]
        },
        {
            "cell_type": "markdown",
            "metadata": {},
            "source": [
                "Note that in torch by default the tensors are copied using shallow copy!\n",
                "\n",
                "- `y_shallow`: create a shallow copy of tensor `x`\n",
                "- change element `y_shallow[0, 0]` to `999`\n",
                "- check `x`\n",
                "- you should see the original tensor also changed (because the tensors share memory)"
            ]
        },
        {
            "cell_type": "code",
            "execution_count": 7,
            "metadata": {
                "colab": {
                    "base_uri": "https://localhost:8080/",
                    "height": 119
                },
                "colab_type": "code",
                "executionInfo": {
                    "elapsed": 8095,
                    "status": "ok",
                    "timestamp": 1553687458901,
                    "user": {
                        "displayName": "Igor Slinko",
                        "photoUrl": "https://lh4.googleusercontent.com/-KYuH_A0wMqY/AAAAAAAAAAI/AAAAAAAAA70/CFLH5ufF32M/s64/photo.jpg",
                        "userId": "00864276345820379450"
                    },
                    "user_tz": -180
                },
                "id": "fdwVdDnmLzd2",
                "outputId": "513c155a-e0c8-4ac4-e906-a1f568658127"
            },
            "outputs": [],
            "source": [
                "y_shallow = None\n",
                "## YOUR CODE HERE ##\n",
                "\n",
                "answer['y_shallow'] = y_shallow.clone().numpy()\n",
                "answer['x_shallow_victim'] = x.clone().numpy()\n",
                "\n",
                "print('x_shallow_victim', x)\n",
                "print('y_shallow', y_shallow)"
            ]
        },
        {
            "cell_type": "code",
            "execution_count": 8,
            "metadata": {
                "colab": {},
                "colab_type": "code",
                "id": "KZA2-dvvMk1P"
            },
            "outputs": [],
            "source": [
                "x = torch.Tensor([[1,  2,  3,  4],\n",
                "                  [5,  6,  7,  8],\n",
                "                  [9, 10, 11, 12]])"
            ]
        },
        {
            "cell_type": "markdown",
            "metadata": {},
            "source": [
                "Now create deep copy \n",
                "- `y_deep` create a deep copy of a tensor `x` using `.clone()` operator\n",
                "- change `y_deep`'s element `[0, 0]` to `999`\n",
                "- check the original tensor\n",
                "- original tensor stays the same!\n"
            ]
        },
        {
            "cell_type": "code",
            "execution_count": 9,
            "metadata": {
                "colab": {
                    "base_uri": "https://localhost:8080/",
                    "height": 119
                },
                "colab_type": "code",
                "executionInfo": {
                    "elapsed": 7222,
                    "status": "ok",
                    "timestamp": 1553687458906,
                    "user": {
                        "displayName": "Igor Slinko",
                        "photoUrl": "https://lh4.googleusercontent.com/-KYuH_A0wMqY/AAAAAAAAAAI/AAAAAAAAA70/CFLH5ufF32M/s64/photo.jpg",
                        "userId": "00864276345820379450"
                    },
                    "user_tz": -180
                },
                "id": "lgePj3UPMRUA",
                "outputId": "40f0c065-29df-4fb0-c344-3e6ceedb004d"
            },
            "outputs": [],
            "source": [
                "y_deep = None\n",
                "## YOUR CODE HERE ##\n",
                "\n",
                "answer['y_deep'] = y_deep.clone().numpy()\n",
                "answer['x_cloned'] = x.clone().numpy()\n",
                "\n",
                "print('x_cloned', x)\n",
                "print('y_deep', y_deep)"
            ]
        },
        {
            "cell_type": "markdown",
            "metadata": {},
            "source": [
                "# Types, devices and casting"
            ]
        },
        {
            "cell_type": "markdown",
            "metadata": {},
            "source": [
                "For the tensor `x`, do:\n",
                "- `x_dtype` find its data type\n",
                "- `x_device` find its device\n",
                "- `x_double` cast the tensor to double\n",
                "- `x_int` cast the tensor to int\n",
                "- `x_float` cast the tensor to float\n",
                "- `x_half` cast tht tensor to half"
            ]
        },
        {
            "cell_type": "code",
            "execution_count": 10,
            "metadata": {
                "colab": {
                    "base_uri": "https://localhost:8080/",
                    "height": 34
                },
                "colab_type": "code",
                "executionInfo": {
                    "elapsed": 6941,
                    "status": "ok",
                    "timestamp": 1553687458908,
                    "user": {
                        "displayName": "Igor Slinko",
                        "photoUrl": "https://lh4.googleusercontent.com/-KYuH_A0wMqY/AAAAAAAAAAI/AAAAAAAAA70/CFLH5ufF32M/s64/photo.jpg",
                        "userId": "00864276345820379450"
                    },
                    "user_tz": -180
                },
                "id": "qvbFh7jqOLZQ",
                "outputId": "8ad47ea8-bf18-4dd6-967b-f9d351edb798"
            },
            "outputs": [],
            "source": [
                "x_dtype = (\n",
                "    ## YOUR CODE HERE ##\n",
                ")\n",
                "\n",
                "x_device = (\n",
                "    ## YOUR CODE HERE ##\n",
                ")\n",
                "\n",
                "x_double = (\n",
                "    ## YOUR CODE HERE ##\n",
                ")\n",
                "\n",
                "x_int = (\n",
                "    ## YOUR CODE HERE ##\n",
                ")\n",
                "\n",
                "x_float = (\n",
                "    ## YOUR CODE HERE ##\n",
                ")\n",
                "\n",
                "x_half = (\n",
                "    ## YOUR CODE HERE ##\n",
                ")\n",
                "\n",
                "\n",
                "answer['x_dtype'] = str(x_dtype)\n",
                "answer['x_double'] = x_double.clone().numpy()\n",
                "answer['x_int'] = x_int.clone().numpy()\n",
                "answer['x_float'] = x_float.clone().numpy()\n",
                "answer['x_half'] = x_half.clone().numpy()\n",
                "\n",
                "print('x_dtype', x_dtype)\n",
                "print('x_double', x_double)\n",
                "print('x_int', x_int)\n",
                "print('x_float', x_float)\n",
                "print('x_half', x_half)\n",
                "            "
            ]
        },
        {
            "cell_type": "markdown",
            "metadata": {},
            "source": [
                "# Integration with Numpy"
            ]
        },
        {
            "cell_type": "markdown",
            "metadata": {},
            "source": [
                "For the ndarray `x_np`:\n",
                "- `x_torch`: convert an array to tensor using `from_numpy`\n",
                "- `x_sqrt_np`: calculate `sqrt` of the tensor and convert the result to numpy"
            ]
        },
        {
            "cell_type": "code",
            "execution_count": 11,
            "metadata": {
                "colab": {
                    "base_uri": "https://localhost:8080/",
                    "height": 51
                },
                "colab_type": "code",
                "executionInfo": {
                    "elapsed": 6234,
                    "status": "ok",
                    "timestamp": 1553687458910,
                    "user": {
                        "displayName": "Igor Slinko",
                        "photoUrl": "https://lh4.googleusercontent.com/-KYuH_A0wMqY/AAAAAAAAAAI/AAAAAAAAA70/CFLH5ufF32M/s64/photo.jpg",
                        "userId": "00864276345820379450"
                    },
                    "user_tz": -180
                },
                "id": "MEYxh-ZVOVZC",
                "outputId": "0d9e926e-ddcb-43aa-c467-1d5da612dbcb"
            },
            "outputs": [],
            "source": [
                "import numpy as np\n",
                "x_np = np.array([[1, 2, 3, 4],\n",
                "              [4, 3, 2, 1]])\n",
                "\n",
                "x_torch = (\n",
                "    ## YOUR CODE HERE ##\n",
                ")\n",
                "x_sqrt_np = (\n",
                "    ## YOUR CODE HERE ##\n",
                ")\n",
                "\n",
                "answer['x_torch'] = x_torch.clone().numpy()\n",
                "answer['x_sqrt_np'] = x_sqrt_np.copy()\n",
                "\n",
                "print('x_torch', x_torch)\n",
                "print('x_sqrt_np', x_sqrt_np)"
            ]
        },
        {
            "cell_type": "markdown",
            "metadata": {},
            "source": [
                "# Working with CUDA"
            ]
        },
        {
            "cell_type": "markdown",
            "metadata": {},
            "source": [
                "Torch is seamlessly integrated with CUDA and GPU calculations.\n",
                "\n",
                "To check it, you can throw this ipynb to Colab and try the cells below. Note that some of them will fail in case you do not have a CUDA device.\n",
                "\n",
                "Besides, Torch can work with\n",
                "- Nvidia GPUs\n",
                "- AMD GPUs\n",
                "- Apple's MPIs\n",
                "- TPUs\n",
                "\n",
                "Also, Torch has very powerful tools for multi-device parallelization"
            ]
        },
        {
            "cell_type": "code",
            "execution_count": 12,
            "metadata": {
                "colab": {
                    "base_uri": "https://localhost:8080/",
                    "height": 34
                },
                "colab_type": "code",
                "executionInfo": {
                    "elapsed": 5053,
                    "status": "ok",
                    "timestamp": 1553687458919,
                    "user": {
                        "displayName": "Igor Slinko",
                        "photoUrl": "https://lh4.googleusercontent.com/-KYuH_A0wMqY/AAAAAAAAAAI/AAAAAAAAA70/CFLH5ufF32M/s64/photo.jpg",
                        "userId": "00864276345820379450"
                    },
                    "user_tz": -180
                },
                "id": "z1JH-OzURJgm",
                "outputId": "dc9ca01d-9508-404e-d0fc-cb91882531ee"
            },
            "outputs": [],
            "source": [
                "# torch.device('cuda:0')"
            ]
        },
        {
            "cell_type": "code",
            "execution_count": 13,
            "metadata": {
                "colab": {
                    "base_uri": "https://localhost:8080/",
                    "height": 34
                },
                "colab_type": "code",
                "executionInfo": {
                    "elapsed": 4909,
                    "status": "ok",
                    "timestamp": 1553687458920,
                    "user": {
                        "displayName": "Igor Slinko",
                        "photoUrl": "https://lh4.googleusercontent.com/-KYuH_A0wMqY/AAAAAAAAAAI/AAAAAAAAA70/CFLH5ufF32M/s64/photo.jpg",
                        "userId": "00864276345820379450"
                    },
                    "user_tz": -180
                },
                "id": "KopsvEhWRVCG",
                "outputId": "6bc2305f-bc76-49ec-8154-0808fc492ff5"
            },
            "outputs": [],
            "source": [
                "# torch.device('cpu')"
            ]
        },
        {
            "cell_type": "code",
            "execution_count": 14,
            "metadata": {
                "colab": {
                    "base_uri": "https://localhost:8080/",
                    "height": 34
                },
                "colab_type": "code",
                "executionInfo": {
                    "elapsed": 4760,
                    "status": "ok",
                    "timestamp": 1553687458921,
                    "user": {
                        "displayName": "Igor Slinko",
                        "photoUrl": "https://lh4.googleusercontent.com/-KYuH_A0wMqY/AAAAAAAAAAI/AAAAAAAAA70/CFLH5ufF32M/s64/photo.jpg",
                        "userId": "00864276345820379450"
                    },
                    "user_tz": -180
                },
                "id": "brlr6kp-Owrp",
                "outputId": "80c44c6e-aab2-4719-9c33-183c85c00db0"
            },
            "outputs": [],
            "source": [
                "# device = torch.device('cuda:0' if torch.cuda.is_available() else 'cpu')\n",
                "# device"
            ]
        },
        {
            "cell_type": "code",
            "execution_count": 15,
            "metadata": {
                "colab": {},
                "colab_type": "code",
                "id": "No2Aa20APGi7"
            },
            "outputs": [],
            "source": [
                "# x_cuda = x.to(device)\n",
                "# x_cuda"
            ]
        },
        {
            "cell_type": "code",
            "execution_count": 16,
            "metadata": {
                "colab": {
                    "base_uri": "https://localhost:8080/",
                    "height": 51
                },
                "colab_type": "code",
                "executionInfo": {
                    "elapsed": 13603,
                    "status": "ok",
                    "timestamp": 1553687468407,
                    "user": {
                        "displayName": "Igor Slinko",
                        "photoUrl": "https://lh4.googleusercontent.com/-KYuH_A0wMqY/AAAAAAAAAAI/AAAAAAAAA70/CFLH5ufF32M/s64/photo.jpg",
                        "userId": "00864276345820379450"
                    },
                    "user_tz": -180
                },
                "id": "b8jHgcD6Puhl",
                "outputId": "bd6ef6ee-f442-4747-c486-535aba1e010e"
            },
            "outputs": [],
            "source": [
                "# %time y = (x - x + x * 10.0) ** 2"
            ]
        },
        {
            "cell_type": "code",
            "execution_count": 17,
            "metadata": {
                "colab": {
                    "base_uri": "https://localhost:8080/",
                    "height": 51
                },
                "colab_type": "code",
                "executionInfo": {
                    "elapsed": 13370,
                    "status": "ok",
                    "timestamp": 1553687468409,
                    "user": {
                        "displayName": "Igor Slinko",
                        "photoUrl": "https://lh4.googleusercontent.com/-KYuH_A0wMqY/AAAAAAAAAAI/AAAAAAAAA70/CFLH5ufF32M/s64/photo.jpg",
                        "userId": "00864276345820379450"
                    },
                    "user_tz": -180
                },
                "id": "TxydcYheP3tQ",
                "outputId": "0b5f5d57-d689-46c5-e470-3e4b57bd64b0"
            },
            "outputs": [],
            "source": [
                "# %time y_cuda = (x_cuda - x_cuda + x_cuda * 10.0) ** 2"
            ]
        },
        {
            "cell_type": "code",
            "execution_count": 18,
            "metadata": {},
            "outputs": [],
            "source": [
                "from pprint import pprint\n",
                "\n",
                "json_tricks.dump(answer, '.answer.json')"
            ]
        }
    ],
    "metadata": {
        "accelerator": "GPU",
        "colab": {
            "collapsed_sections": [],
            "name": "Seminar1.ipynb",
            "provenance": [],
            "version": "0.3.2"
        },
        "kernelspec": {
            "display_name": "Python 3",
            "language": "python",
            "name": "python3"
        },
        "language_info": {
            "codemirror_mode": {
                "name": "ipython",
                "version": 3
            },
            "file_extension": ".py",
            "mimetype": "text/x-python",
            "name": "python",
            "nbconvert_exporter": "python",
            "pygments_lexer": "ipython3",
            "version": "3.9.0"
        }
    },
    "nbformat": 4,
    "nbformat_minor": 1
}
